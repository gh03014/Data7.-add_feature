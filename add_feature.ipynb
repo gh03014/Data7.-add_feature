{
 "cells": [
  {
   "cell_type": "code",
   "execution_count": 1,
   "metadata": {},
   "outputs": [],
   "source": [
    "import pandas as pd\n",
    "import os"
   ]
  },
  {
   "cell_type": "code",
   "execution_count": 2,
   "metadata": {},
   "outputs": [],
   "source": [
    "df = pd.read_csv(\"Combined_Cycle_Power_Plant.csv\")"
   ]
  },
  {
   "cell_type": "code",
   "execution_count": 3,
   "metadata": {},
   "outputs": [],
   "source": [
    "# 특징과 라벨 분리\n",
    "X = df.drop('EP', axis = 1)\n",
    "Y = df['EP']"
   ]
  },
  {
   "cell_type": "code",
   "execution_count": 4,
   "metadata": {},
   "outputs": [],
   "source": [
    "# 신규 데이터 생성\n",
    "X_added = X.copy() # 특징이 추가된 데이터를 부착할 데이터\n",
    "\n",
    "import numpy as np\n",
    "# 로그와 제곱 관련 변수만 추가\n",
    "for col in X.columns:\n",
    "    X_added[col + '_squared'] = X[col] ** 2\n",
    "    X_added[col + '_log'] = np.log(X[col])"
   ]
  },
  {
   "cell_type": "code",
   "execution_count": 5,
   "metadata": {},
   "outputs": [],
   "source": [
    "# k겹 교차검증기반은 주로 데이터 양이 적을 때 사용하는 방법이다.\n",
    "\n",
    "# 5겹 교차 검증 기반의 평가 수행\n",
    "# 데이터를 비슷한 크기의 집합 5개로 나눈다, cv에서 집합갯수 지정\n",
    "# 1개 집합은 테스트용으로 쓰고, 나머지 4개는 훈련용으로 하고\n",
    "# 그 과정을 반복하여 각 집합의 정확도를 측정한다.\n",
    "# sorting에서는 각 모델에서 사요할 평가방법을 지정한다\n",
    "# Regression 모델에서는 MSE를 얻기 위해 주로 'neg_mean_squred_error'값을 사용한다.\n",
    "\n",
    "from sklearn.model_selection import cross_val_score\n",
    "from sklearn.linear_model import LinearRegression as LR\n",
    "\n",
    "X_score = cross_val_score(LR(), X, Y, cv = 5, scoring = 'neg_mean_absolute_error').mean()\n",
    "X_added_score = cross_val_score(LR(), X_added, Y, cv = 5, scoring = 'neg_mean_absolute_error').mean()"
   ]
  },
  {
   "cell_type": "code",
   "execution_count": 6,
   "metadata": {},
   "outputs": [
    {
     "name": "stdout",
     "output_type": "stream",
     "text": [
      "특징 추가 전:-3.6282513807290444, 특징 추가 후:-3.332221506754189\n"
     ]
    }
   ],
   "source": [
    "print(\"특징 추가 전:{}, 특징 추가 후:{}\".format(X_score, X_added_score))"
   ]
  },
  {
   "cell_type": "code",
   "execution_count": null,
   "metadata": {},
   "outputs": [],
   "source": []
  }
 ],
 "metadata": {
  "kernelspec": {
   "display_name": "Python 3",
   "language": "python",
   "name": "python3"
  },
  "language_info": {
   "codemirror_mode": {
    "name": "ipython",
    "version": 3
   },
   "file_extension": ".py",
   "mimetype": "text/x-python",
   "name": "python",
   "nbconvert_exporter": "python",
   "pygments_lexer": "ipython3",
   "version": "3.8.5"
  }
 },
 "nbformat": 4,
 "nbformat_minor": 2
}
